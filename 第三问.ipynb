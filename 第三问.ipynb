{
 "cells": [
  {
   "cell_type": "code",
   "execution_count": 1,
   "id": "63e90b2a",
   "metadata": {},
   "outputs": [],
   "source": [
    "import matplotlib.pyplot as plt\n",
    "import numpy as np\n",
    "import pandas as pd\n",
    "import datetime\n",
    "plt.rcParams['font.sans-serif'] = ['SimHei'] # 用来正常显示中文标签\n",
    "plt.rcParams['axes.unicode_minus'] = False # 用来正常显示负号"
   ]
  },
  {
   "cell_type": "code",
   "execution_count": 2,
   "id": "ed345404",
   "metadata": {},
   "outputs": [],
   "source": [
    "data1 = pd.read_excel(\"附件1.xlsx\")\n",
    "data2 = pd.read_csv(\"附件2.csv\",encoding='ANSI')\n",
    "data3 = pd.read_excel(\"附件3.xlsx\")\n",
    "data4 = pd.read_excel(\"损耗率.xlsx\")"
   ]
  },
  {
   "cell_type": "code",
   "execution_count": 3,
   "id": "ba02f91e",
   "metadata": {
    "scrolled": true
   },
   "outputs": [
    {
     "data": {
      "text/html": [
       "<div>\n",
       "<style scoped>\n",
       "    .dataframe tbody tr th:only-of-type {\n",
       "        vertical-align: middle;\n",
       "    }\n",
       "\n",
       "    .dataframe tbody tr th {\n",
       "        vertical-align: top;\n",
       "    }\n",
       "\n",
       "    .dataframe thead th {\n",
       "        text-align: right;\n",
       "    }\n",
       "</style>\n",
       "<table border=\"1\" class=\"dataframe\">\n",
       "  <thead>\n",
       "    <tr style=\"text-align: right;\">\n",
       "      <th></th>\n",
       "      <th>小分类编码</th>\n",
       "      <th>小分类名称</th>\n",
       "      <th>平均损耗率(%)_小分类编码_不同值</th>\n",
       "    </tr>\n",
       "  </thead>\n",
       "  <tbody>\n",
       "    <tr>\n",
       "      <th>0</th>\n",
       "      <td>1011010201</td>\n",
       "      <td>花菜类</td>\n",
       "      <td>15.51</td>\n",
       "    </tr>\n",
       "    <tr>\n",
       "      <th>1</th>\n",
       "      <td>1011010402</td>\n",
       "      <td>水生根茎类</td>\n",
       "      <td>13.65</td>\n",
       "    </tr>\n",
       "    <tr>\n",
       "      <th>2</th>\n",
       "      <td>1011010101</td>\n",
       "      <td>花叶类</td>\n",
       "      <td>12.83</td>\n",
       "    </tr>\n",
       "    <tr>\n",
       "      <th>3</th>\n",
       "      <td>1011010801</td>\n",
       "      <td>食用菌</td>\n",
       "      <td>9.45</td>\n",
       "    </tr>\n",
       "    <tr>\n",
       "      <th>4</th>\n",
       "      <td>1011010504</td>\n",
       "      <td>辣椒类</td>\n",
       "      <td>9.24</td>\n",
       "    </tr>\n",
       "    <tr>\n",
       "      <th>5</th>\n",
       "      <td>1011010501</td>\n",
       "      <td>茄类</td>\n",
       "      <td>6.68</td>\n",
       "    </tr>\n",
       "  </tbody>\n",
       "</table>\n",
       "</div>"
      ],
      "text/plain": [
       "        小分类编码  小分类名称  平均损耗率(%)_小分类编码_不同值\n",
       "0  1011010201    花菜类               15.51\n",
       "1  1011010402  水生根茎类               13.65\n",
       "2  1011010101    花叶类               12.83\n",
       "3  1011010801    食用菌                9.45\n",
       "4  1011010504    辣椒类                9.24\n",
       "5  1011010501     茄类                6.68"
      ]
     },
     "execution_count": 3,
     "metadata": {},
     "output_type": "execute_result"
    }
   ],
   "source": [
    "data4"
   ]
  },
  {
   "cell_type": "code",
   "execution_count": 4,
   "id": "5c5725b7",
   "metadata": {},
   "outputs": [],
   "source": [
    "sunhao = pd.read_csv(\"损耗率.csv\")"
   ]
  },
  {
   "cell_type": "markdown",
   "id": "47d2df78",
   "metadata": {},
   "source": [
    "# 以单品为最小单位"
   ]
  },
  {
   "cell_type": "code",
   "execution_count": 5,
   "id": "04834da4",
   "metadata": {},
   "outputs": [],
   "source": [
    "class_list = [0.0]*251\n",
    "lirun_list = np.array([class_list]*1095)\n",
    "chengben_list = np.array([class_list]*1095)\n",
    "shuliang_list = np.array([class_list]*1095)\n",
    "#tinydict = {'花叶类': 0, '花菜类':1,'水生根茎类': 2,'茄类': 3, '辣椒类': 4, '食用菌': 5}"
   ]
  },
  {
   "cell_type": "code",
   "execution_count": 7,
   "id": "f43d50df",
   "metadata": {
    "scrolled": false
   },
   "outputs": [
    {
     "name": "stdout",
     "output_type": "stream",
     "text": [
      "0\n",
      "10000\n",
      "20000\n",
      "30000\n",
      "40000\n",
      "50000\n",
      "60000\n",
      "70000\n",
      "80000\n",
      "90000\n",
      "100000\n",
      "110000\n",
      "120000\n",
      "130000\n",
      "140000\n",
      "150000\n",
      "160000\n",
      "170000\n",
      "180000\n",
      "190000\n",
      "200000\n",
      "210000\n",
      "220000\n",
      "230000\n",
      "240000\n",
      "250000\n",
      "260000\n",
      "270000\n",
      "280000\n",
      "290000\n",
      "300000\n",
      "310000\n",
      "320000\n",
      "330000\n",
      "340000\n",
      "350000\n",
      "360000\n",
      "370000\n",
      "380000\n",
      "390000\n",
      "400000\n",
      "410000\n",
      "420000\n",
      "430000\n",
      "440000\n",
      "450000\n",
      "460000\n",
      "470000\n",
      "480000\n",
      "490000\n",
      "500000\n",
      "510000\n",
      "520000\n",
      "530000\n",
      "540000\n",
      "550000\n",
      "560000\n",
      "570000\n",
      "580000\n",
      "590000\n",
      "600000\n",
      "610000\n",
      "620000\n",
      "630000\n",
      "640000\n",
      "650000\n",
      "660000\n",
      "670000\n",
      "680000\n",
      "690000\n",
      "700000\n",
      "710000\n",
      "720000\n",
      "730000\n",
      "740000\n",
      "750000\n",
      "760000\n",
      "770000\n",
      "780000\n",
      "790000\n",
      "800000\n",
      "810000\n",
      "820000\n",
      "830000\n",
      "840000\n",
      "850000\n",
      "860000\n",
      "870000\n"
     ]
    }
   ],
   "source": [
    "time0 = datetime.datetime.strptime('2020-07-01',\"%Y-%m-%d\")\n",
    "for i in range(len(data2)):\n",
    "    if i % 10000 == 0:\n",
    "        print(i)\n",
    "    time_tmp = datetime.datetime.strptime(data2.iloc[i][0],\"%Y-%m-%d\")\n",
    "    index_1 = data_timedelta = (time_tmp-time0).days\n",
    "    \n",
    "    index_2 = data1[data1[\"单品编码\"] == data2.iloc[i][2]].index[0]\n",
    "    \n",
    "    sum_money = (data2.iloc[i,4] - data3[(data3[\"单品编码\"] == data2.iloc[i,2]) & (data3[\"日期\"] == data2.iloc[i,0])].iloc[0,2]) * data2.iloc[i,3]\n",
    "    chengben_money = (data3[(data3[\"单品编码\"] == data2.iloc[i,2]) & (data3[\"日期\"] == data2.iloc[i,0])].iloc[0,2]) * data2.iloc[i,3]\n",
    "    \n",
    "    lirun_list[index_1][index_2] += sum_money\n",
    "    chengben_list[index_1][index_2] += chengben_money\n",
    "    shuliang_list[index_1][index_2] += data2.iloc[i,3]"
   ]
  },
  {
   "cell_type": "markdown",
   "id": "d4e699c1",
   "metadata": {},
   "source": [
    "# 开始计算单品总收益"
   ]
  },
  {
   "cell_type": "code",
   "execution_count": 10,
   "id": "2898f9b8",
   "metadata": {},
   "outputs": [],
   "source": [
    "df_chengben_list = pd.read_csv(\"A3_chengben_list.csv\")\n",
    "del df_chengben_list[\"Unnamed: 0\"]\n",
    "df_lirun_list = pd.read_csv(\"A3_lirun.csv\")\n",
    "del df_lirun_list[\"Unnamed: 0\"]\n",
    "df_shuliang_list = pd.read_csv(\"A3_shuliang.csv\")\n",
    "del df_shuliang_list[\"Unnamed: 0\"]"
   ]
  },
  {
   "cell_type": "code",
   "execution_count": 11,
   "id": "ef75e4a1",
   "metadata": {},
   "outputs": [],
   "source": [
    "lirun_list = df_lirun_list.values"
   ]
  },
  {
   "cell_type": "code",
   "execution_count": 12,
   "id": "97793564",
   "metadata": {},
   "outputs": [],
   "source": [
    "sort_sum_lirun_list = pd.DataFrame(sum(lirun_list)/1095)"
   ]
  },
  {
   "cell_type": "code",
   "execution_count": 13,
   "id": "debca45e",
   "metadata": {},
   "outputs": [],
   "source": [
    "# sort_sum_lirun_list.to_csv(\"D://3.1.csv\")"
   ]
  },
  {
   "cell_type": "code",
   "execution_count": 14,
   "id": "e727d481",
   "metadata": {},
   "outputs": [],
   "source": [
    "shuliang_list = df_shuliang_list.values"
   ]
  },
  {
   "cell_type": "code",
   "execution_count": 15,
   "id": "f84ea983",
   "metadata": {},
   "outputs": [],
   "source": [
    "sort_sum_shuliang_list = pd.DataFrame(sum(shuliang_list)/1095)"
   ]
  },
  {
   "cell_type": "code",
   "execution_count": 16,
   "id": "5eb74443",
   "metadata": {},
   "outputs": [],
   "source": [
    "#sort_sum_shuliang_list.to_csv(\"D://3.2.csv\")"
   ]
  },
  {
   "cell_type": "code",
   "execution_count": 17,
   "id": "06ade5b2",
   "metadata": {},
   "outputs": [
    {
     "data": {
      "image/png": "[encoded data removed]",
      "text/plain": [
       "<Figure size 640x480 with 1 Axes>"
      ]
     },
     "metadata": {},
     "output_type": "display_data"
    }
   ],
   "source": [
    "plt.hist(sort_sum_shuliang_list,bins =20)\n",
    "plt.show()"
   ]
  },
  {
   "cell_type": "code",
   "execution_count": 18,
   "id": "8979cf7b",
   "metadata": {},
   "outputs": [
    {
     "name": "stderr",
     "output_type": "stream",
     "text": [
      "C:\\Users\\Admin\\AppData\\Local\\Temp\\ipykernel_11040\\2180549913.py:1: RuntimeWarning: invalid value encountered in true_divide\n",
      "  danjia = sum(lirun_list)/sum(shuliang_list)\n"
     ]
    }
   ],
   "source": [
    "danjia = sum(lirun_list)/sum(shuliang_list)"
   ]
  },
  {
   "cell_type": "code",
   "execution_count": 19,
   "id": "4280bf62",
   "metadata": {},
   "outputs": [
    {
     "data": {
      "text/plain": [
       "(0.0, 50.0)"
      ]
     },
     "execution_count": 19,
     "metadata": {},
     "output_type": "execute_result"
    },
    {
     "data": {
      "image/png": "[encoded data removed]",
      "text/plain": [
       "<Figure size 640x480 with 1 Axes>"
      ]
     },
     "metadata": {},
     "output_type": "display_data"
    }
   ],
   "source": [
    "plt.hist(danjia,bins = 100)\n",
    "plt.xlim(0,50)"
   ]
  },
  {
   "cell_type": "code",
   "execution_count": 20,
   "id": "51945e39",
   "metadata": {},
   "outputs": [
    {
     "data": {
      "text/plain": [
       "array([[0., 0., 0., ..., 0., 0., 0.],\n",
       "       [0., 0., 0., ..., 0., 0., 0.],\n",
       "       [0., 0., 0., ..., 0., 0., 0.],\n",
       "       ...,\n",
       "       [0., 0., 0., ..., 0., 0., 0.],\n",
       "       [0., 0., 0., ..., 0., 0., 0.],\n",
       "       [0., 0., 0., ..., 0., 0., 0.]])"
      ]
     },
     "execution_count": 20,
     "metadata": {},
     "output_type": "execute_result"
    }
   ],
   "source": [
    "shuliang_list"
   ]
  },
  {
   "cell_type": "markdown",
   "id": "e6ecb345",
   "metadata": {},
   "source": [
    "# 损耗率"
   ]
  },
  {
   "cell_type": "code",
   "execution_count": 21,
   "id": "b35ba491",
   "metadata": {},
   "outputs": [
    {
     "data": {
      "image/png": "[encoded data removed]",
      "text/plain": [
       "<Figure size 640x480 with 1 Axes>"
      ]
     },
     "metadata": {},
     "output_type": "display_data"
    }
   ],
   "source": [
    "plt.boxplot(sunhao.iloc[:,2].values/100)\n",
    "plt.show()"
   ]
  },
  {
   "cell_type": "code",
   "execution_count": 22,
   "id": "41cedabe",
   "metadata": {},
   "outputs": [
    {
     "data": {
      "text/plain": [
       "0.09426693227091634"
      ]
     },
     "execution_count": 22,
     "metadata": {},
     "output_type": "execute_result"
    }
   ],
   "source": [
    "np.mean(sunhao.iloc[:,2].values/100)"
   ]
  },
  {
   "cell_type": "code",
   "execution_count": 23,
   "id": "65f8d618",
   "metadata": {},
   "outputs": [
    {
     "data": {
      "text/plain": [
       "0.052006360917180146"
      ]
     },
     "execution_count": 23,
     "metadata": {},
     "output_type": "execute_result"
    }
   ],
   "source": [
    "np.std(sunhao.iloc[:,2].values/100)"
   ]
  },
  {
   "cell_type": "markdown",
   "id": "1c3625e4",
   "metadata": {},
   "source": [
    "附件4的顺序与附件1不同，做一个修正。"
   ]
  },
  {
   "cell_type": "code",
   "execution_count": 24,
   "id": "5fe826f0",
   "metadata": {},
   "outputs": [
    {
     "name": "stdout",
     "output_type": "stream",
     "text": [
      "0\n",
      "10000\n",
      "20000\n",
      "30000\n",
      "40000\n",
      "50000\n",
      "60000\n",
      "70000\n",
      "80000\n",
      "90000\n",
      "100000\n",
      "110000\n",
      "120000\n",
      "130000\n",
      "140000\n",
      "150000\n",
      "160000\n",
      "170000\n",
      "180000\n",
      "190000\n",
      "200000\n",
      "210000\n",
      "220000\n",
      "230000\n",
      "240000\n",
      "250000\n",
      "260000\n",
      "270000\n",
      "280000\n",
      "290000\n",
      "300000\n",
      "310000\n",
      "320000\n",
      "330000\n",
      "340000\n",
      "350000\n",
      "360000\n",
      "370000\n",
      "380000\n",
      "390000\n",
      "400000\n",
      "410000\n",
      "420000\n",
      "430000\n",
      "440000\n",
      "450000\n",
      "460000\n",
      "470000\n",
      "480000\n",
      "490000\n",
      "500000\n",
      "510000\n",
      "520000\n",
      "530000\n",
      "540000\n",
      "550000\n",
      "560000\n",
      "570000\n",
      "580000\n",
      "590000\n",
      "600000\n",
      "610000\n",
      "620000\n",
      "630000\n",
      "640000\n",
      "650000\n",
      "660000\n",
      "670000\n",
      "680000\n",
      "690000\n",
      "700000\n",
      "710000\n",
      "720000\n",
      "730000\n",
      "740000\n",
      "750000\n",
      "760000\n",
      "770000\n",
      "780000\n",
      "790000\n",
      "800000\n",
      "810000\n",
      "820000\n",
      "830000\n",
      "840000\n",
      "850000\n",
      "860000\n",
      "870000\n"
     ]
    }
   ],
   "source": [
    "time0 = datetime.datetime.strptime('2020-07-01',\"%Y-%m-%d\")\n",
    "for i in range(len(data2)):\n",
    "    if i % 10000 == 0:\n",
    "        print(i)\n",
    "    time_tmp = datetime.datetime.strptime(data2.iloc[i][0],\"%Y-%m-%d\")\n",
    "    index_1 = data_timedelta = (time_tmp-time0).days\n",
    "    \n",
    "    index_2 = data1[data1[\"单品编码\"] == data2.iloc[i][2]].index[0]\n",
    "    \n",
    "    sum_money = (data2.iloc[i,4] - data3[(data3[\"单品编码\"] == data2.iloc[i,2]) & (data3[\"日期\"] == data2.iloc[i,0])].iloc[0,2]) * data2.iloc[i,3]\n",
    "    chengben_money = (data3[(data3[\"单品编码\"] == data2.iloc[i,2]) & (data3[\"日期\"] == data2.iloc[i,0])].iloc[0,2]) * data2.iloc[i,3]\n",
    "    \n",
    "    lirun_list[index_1][index_2] += sum_money\n",
    "    chengben_list[index_1][index_2] += chengben_money\n",
    "    shuliang_list[index_1][index_2] += data2.iloc[i,3]"
   ]
  },
  {
   "cell_type": "code",
   "execution_count": 25,
   "id": "8b29b52f",
   "metadata": {},
   "outputs": [],
   "source": [
    "sunhao_r = [0.0]*251"
   ]
  },
  {
   "cell_type": "code",
   "execution_count": 26,
   "id": "fca58115",
   "metadata": {},
   "outputs": [],
   "source": [
    "for i in range(len(sunhao)):\n",
    "    index_3 = data1[data1[\"单品名称\"] == sunhao.iloc[i,1]].index[0]\n",
    "    sunhao_r[index_3] = sunhao.iloc[i,2]"
   ]
  },
  {
   "cell_type": "code",
   "execution_count": 27,
   "id": "1cce34d7",
   "metadata": {},
   "outputs": [],
   "source": [
    "#pd.DataFrame(sunhao_r).to_csv(\"D://true_sunhao.csv\")"
   ]
  },
  {
   "cell_type": "code",
   "execution_count": 28,
   "id": "e6ae27e0",
   "metadata": {},
   "outputs": [
    {
     "data": {
      "text/plain": [
       "198"
      ]
     },
     "execution_count": 28,
     "metadata": {},
     "output_type": "execute_result"
    }
   ],
   "source": [
    "251-4-49"
   ]
  },
  {
   "cell_type": "markdown",
   "id": "af8a57bd",
   "metadata": {},
   "source": [
    "# 修正后的平均数量"
   ]
  },
  {
   "cell_type": "code",
   "execution_count": 29,
   "id": "f56790ca",
   "metadata": {},
   "outputs": [],
   "source": [
    "dst_data = pd.read_excel('第三问过程.xlsx')"
   ]
  },
  {
   "cell_type": "code",
   "execution_count": 30,
   "id": "8758fc3c",
   "metadata": {},
   "outputs": [
    {
     "data": {
      "text/plain": [
       "[<matplotlib.lines.Line2D at 0x23f8bbdfd30>]"
      ]
     },
     "execution_count": 30,
     "metadata": {},
     "output_type": "execute_result"
    },
    {
     "data": {
      "image/png": "[encoded data removed]",
      "text/plain": [
       "<Figure size 640x480 with 1 Axes>"
      ]
     },
     "metadata": {},
     "output_type": "display_data"
    }
   ],
   "source": [
    "plt.hist(dst_data.iloc[:,6],bins = 30)\n",
    "plt.plot([2.5,2.5],[0,150],'--')"
   ]
  },
  {
   "cell_type": "markdown",
   "id": "3b11d57b",
   "metadata": {},
   "source": [
    "# 可售单品"
   ]
  },
  {
   "cell_type": "code",
   "execution_count": 31,
   "id": "adb706f5",
   "metadata": {},
   "outputs": [],
   "source": [
    "keshou_data = pd.read_excel(\"624_630可售.xlsx\")"
   ]
  },
  {
   "cell_type": "code",
   "execution_count": 32,
   "id": "b89768ba",
   "metadata": {},
   "outputs": [
    {
     "data": {
      "text/html": [
       "<div>\n",
       "<style scoped>\n",
       "    .dataframe tbody tr th:only-of-type {\n",
       "        vertical-align: middle;\n",
       "    }\n",
       "\n",
       "    .dataframe tbody tr th {\n",
       "        vertical-align: top;\n",
       "    }\n",
       "\n",
       "    .dataframe thead th {\n",
       "        text-align: right;\n",
       "    }\n",
       "</style>\n",
       "<table border=\"1\" class=\"dataframe\">\n",
       "  <thead>\n",
       "    <tr style=\"text-align: right;\">\n",
       "      <th></th>\n",
       "      <th>Unnamed: 0</th>\n",
       "      <th>Unnamed: 1</th>\n",
       "      <th>Unnamed: 2</th>\n",
       "    </tr>\n",
       "  </thead>\n",
       "  <tbody>\n",
       "    <tr>\n",
       "      <th>0</th>\n",
       "      <td>2023-06-24</td>\n",
       "      <td>102900005115250</td>\n",
       "      <td>15.60</td>\n",
       "    </tr>\n",
       "    <tr>\n",
       "      <th>1</th>\n",
       "      <td>2023-06-24</td>\n",
       "      <td>102900005115762</td>\n",
       "      <td>2.31</td>\n",
       "    </tr>\n",
       "    <tr>\n",
       "      <th>2</th>\n",
       "      <td>2023-06-24</td>\n",
       "      <td>102900005115779</td>\n",
       "      <td>5.75</td>\n",
       "    </tr>\n",
       "    <tr>\n",
       "      <th>3</th>\n",
       "      <td>2023-06-24</td>\n",
       "      <td>102900005115786</td>\n",
       "      <td>2.41</td>\n",
       "    </tr>\n",
       "    <tr>\n",
       "      <th>4</th>\n",
       "      <td>2023-06-24</td>\n",
       "      <td>102900005115823</td>\n",
       "      <td>4.32</td>\n",
       "    </tr>\n",
       "    <tr>\n",
       "      <th>...</th>\n",
       "      <td>...</td>\n",
       "      <td>...</td>\n",
       "      <td>...</td>\n",
       "    </tr>\n",
       "    <tr>\n",
       "      <th>349</th>\n",
       "      <td>2023-06-30</td>\n",
       "      <td>102900051000944</td>\n",
       "      <td>18.00</td>\n",
       "    </tr>\n",
       "    <tr>\n",
       "      <th>350</th>\n",
       "      <td>2023-06-30</td>\n",
       "      <td>102900051004294</td>\n",
       "      <td>6.45</td>\n",
       "    </tr>\n",
       "    <tr>\n",
       "      <th>351</th>\n",
       "      <td>2023-06-30</td>\n",
       "      <td>102900051010455</td>\n",
       "      <td>4.48</td>\n",
       "    </tr>\n",
       "    <tr>\n",
       "      <th>352</th>\n",
       "      <td>2023-06-30</td>\n",
       "      <td>106949711300259</td>\n",
       "      <td>1.45</td>\n",
       "    </tr>\n",
       "    <tr>\n",
       "      <th>353</th>\n",
       "      <td>2023-06-30</td>\n",
       "      <td>106971533450003</td>\n",
       "      <td>1.95</td>\n",
       "    </tr>\n",
       "  </tbody>\n",
       "</table>\n",
       "<p>354 rows × 3 columns</p>\n",
       "</div>"
      ],
      "text/plain": [
       "    Unnamed: 0       Unnamed: 1  Unnamed: 2\n",
       "0   2023-06-24  102900005115250       15.60\n",
       "1   2023-06-24  102900005115762        2.31\n",
       "2   2023-06-24  102900005115779        5.75\n",
       "3   2023-06-24  102900005115786        2.41\n",
       "4   2023-06-24  102900005115823        4.32\n",
       "..         ...              ...         ...\n",
       "349 2023-06-30  102900051000944       18.00\n",
       "350 2023-06-30  102900051004294        6.45\n",
       "351 2023-06-30  102900051010455        4.48\n",
       "352 2023-06-30  106949711300259        1.45\n",
       "353 2023-06-30  106971533450003        1.95\n",
       "\n",
       "[354 rows x 3 columns]"
      ]
     },
     "execution_count": 32,
     "metadata": {},
     "output_type": "execute_result"
    }
   ],
   "source": [
    "keshou_data"
   ]
  },
  {
   "cell_type": "code",
   "execution_count": 33,
   "id": "f55639d2",
   "metadata": {},
   "outputs": [
    {
     "data": {
      "text/plain": [
       "179"
      ]
     },
     "execution_count": 33,
     "metadata": {},
     "output_type": "execute_result"
    }
   ],
   "source": [
    "i = 0\n",
    "data1[data1[\"单品编码\"] == keshou_data.iloc[i,1]].index[0]"
   ]
  },
  {
   "cell_type": "code",
   "execution_count": 34,
   "id": "294fb07c",
   "metadata": {},
   "outputs": [],
   "source": [
    "keshou_r = [0] * 251"
   ]
  },
  {
   "cell_type": "code",
   "execution_count": 35,
   "id": "42e92b39",
   "metadata": {},
   "outputs": [],
   "source": [
    "for i in range(len(sunhao)):\n",
    "    index_3 = data1[data1[\"单品编码\"] == keshou_data.iloc[i,1]].index[0]\n",
    "    keshou_r[index_3] = 1"
   ]
  }
 ],
 "metadata": {
  "kernelspec": {
   "display_name": "Python 3 (ipykernel)",
   "language": "python",
   "name": "python3"
  },
  "language_info": {
   "codemirror_mode": {
    "name": "ipython",
    "version": 3
   },
   "file_extension": ".py",
   "mimetype": "text/x-python",
   "name": "python",
   "nbconvert_exporter": "python",
   "pygments_lexer": "ipython3",
   "version": "3.8.4rc1"
  }
 },
 "nbformat": 4,
 "nbformat_minor": 5
}
